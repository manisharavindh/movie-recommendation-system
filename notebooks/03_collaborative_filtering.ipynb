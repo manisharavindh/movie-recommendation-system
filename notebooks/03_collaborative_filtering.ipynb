{
 "cells": [
  {
   "cell_type": "code",
   "execution_count": 4,
   "id": "9728eb28-ab75-4523-b919-3ae0db0318ef",
   "metadata": {},
   "outputs": [],
   "source": [
    "# Cell 1: Import everything\n",
    "import sys\n",
    "sys.path.append('..')\n",
    "\n",
    "from src.data_preprocessing import load_data, filter_sparse_data\n",
    "from src.collaborative_filtering import UserBasedCollaborativeFilter\n",
    "import pandas as pd\n",
    "import numpy as np"
   ]
  },
  {
   "cell_type": "code",
   "execution_count": 6,
   "id": "b1b6c9da-ce69-4b3a-8574-fca6dbc63bdf",
   "metadata": {},
   "outputs": [],
   "source": [
    "ratings, movies = load_data()\n",
    "filtered_ratings = filter_sparse_data(ratings)"
   ]
  },
  {
   "cell_type": "code",
   "execution_count": 7,
   "id": "f631da4b-1189-49e5-aca1-0c9508aa1365",
   "metadata": {},
   "outputs": [],
   "source": [
    "from sklearn.model_selection import train_test_split\n",
    "\n",
    "train_ratings, test_ratings = train_test_split(filtered_ratings, test_size=0.2, random_state=42)"
   ]
  },
  {
   "cell_type": "code",
   "execution_count": 11,
   "id": "1d3bfaf3-1da3-4a04-bfe1-5e661da99e25",
   "metadata": {},
   "outputs": [
    {
     "name": "stdout",
     "output_type": "stream",
     "text": [
      "Creating user-item matrix...\n",
      "Calculating user similarities...\n",
      "Model training complete!\n"
     ]
    }
   ],
   "source": [
    "model = UserBasedCollaborativeFilter(n_neighbors=50)\n",
    "model.fit(train_ratings)"
   ]
  },
  {
   "cell_type": "code",
   "execution_count": 18,
   "id": "ca22415e-4d16-449d-a024-2cb936b2a4f8",
   "metadata": {},
   "outputs": [
    {
     "name": "stdout",
     "output_type": "stream",
     "text": [
      "Top 10 recommendations for User 100:\n",
      "Shawshank Redemption, The (1994): 4.41\n",
      "Godfather, The (1972): 4.39\n",
      "Casablanca (1942): 4.37\n",
      "Godfather: Part II, The (1974): 4.36\n",
      "Schindler's List (1993): 4.32\n",
      "Star Wars: Episode V - The Empire Strikes Back (1980): 4.31\n",
      "Monty Python and the Holy Grail (1975): 4.30\n",
      "Star Wars: Episode IV - A New Hope (1977): 4.27\n",
      "Silence of the Lambs, The (1991): 4.27\n",
      "Spirited Away (Sen to Chihiro no kamikakushi) (2001): 4.27\n"
     ]
    }
   ],
   "source": [
    "user_id = 100\n",
    "recommendations = model.recommend_movies(user_id, n_recommendations=10)\n",
    "\n",
    "print(f\"Top 10 recommendations for User {user_id}:\")\n",
    "for movie_id, predicted_rating in recommendations:\n",
    "    movie_title = movies[movies['movieId'] == movie_id]['title'].iloc[0]\n",
    "    print(f\"{movie_title}: {predicted_rating:.2f}\")"
   ]
  },
  {
   "cell_type": "code",
   "execution_count": 19,
   "id": "55161e13-2138-44fe-a87c-db2561274add",
   "metadata": {},
   "outputs": [
    {
     "name": "stdout",
     "output_type": "stream",
     "text": [
      "RMSE: 0.914\n"
     ]
    }
   ],
   "source": [
    "from sklearn.metrics import mean_squared_error\n",
    "\n",
    "# Make predictions on test set\n",
    "predictions = []\n",
    "actuals = []\n",
    "\n",
    "for _, row in test_ratings.head(1000).iterrows():  # Sample for speed\n",
    "    pred = model.predict_rating(row['userId'], row['movieId'])\n",
    "    predictions.append(pred)\n",
    "    actuals.append(row['rating'])\n",
    "\n",
    "rmse = np.sqrt(mean_squared_error(actuals, predictions))\n",
    "print(f\"RMSE: {rmse:.3f}\")"
   ]
  },
  {
   "cell_type": "code",
   "execution_count": null,
   "id": "6199b1ae-3002-4a5f-ad64-456e46ea723a",
   "metadata": {},
   "outputs": [],
   "source": []
  }
 ],
 "metadata": {
  "kernelspec": {
   "display_name": "Python 3 (ipykernel)",
   "language": "python",
   "name": "python3"
  },
  "language_info": {
   "codemirror_mode": {
    "name": "ipython",
    "version": 3
   },
   "file_extension": ".py",
   "mimetype": "text/x-python",
   "name": "python",
   "nbconvert_exporter": "python",
   "pygments_lexer": "ipython3",
   "version": "3.9.7"
  }
 },
 "nbformat": 4,
 "nbformat_minor": 5
}
